{
  "nbformat": 4,
  "nbformat_minor": 0,
  "metadata": {
    "colab": {
      "provenance": [],
      "authorship_tag": "ABX9TyPo8tqZpIsx+izxnvYA1MGX",
      "include_colab_link": true
    },
    "kernelspec": {
      "name": "python3",
      "display_name": "Python 3"
    },
    "language_info": {
      "name": "python"
    }
  },
  "cells": [
    {
      "cell_type": "markdown",
      "metadata": {
        "id": "view-in-github",
        "colab_type": "text"
      },
      "source": [
        "<a href=\"https://colab.research.google.com/github/guilhermefritz/Web_Scraping/blob/main/Web_Scraping_ge.ipynb\" target=\"_parent\"><img src=\"https://colab.research.google.com/assets/colab-badge.svg\" alt=\"Open In Colab\"/></a>"
      ]
    },
    {
      "cell_type": "markdown",
      "source": [
        "# Web Scraping no site do \"Globo Esporte \" utilizando BeautifulSoup\n"
      ],
      "metadata": {
        "id": "o_3SzRL38xsk"
      }
    },
    {
      "cell_type": "markdown",
      "source": [
        "Autoria: Guilherme Fritz"
      ],
      "metadata": {
        "id": "TjlkRTdSDNiB"
      }
    },
    {
      "cell_type": "markdown",
      "source": [
        "----------------------------------------------------------------------------------------------------------------------------------------------------------------"
      ],
      "metadata": {
        "id": "4DIHGeAQDyyt"
      }
    },
    {
      "cell_type": "markdown",
      "source": [
        "***Objetivo : Extrair informações das principais notícias da página\n",
        "(Título,Subtítulo e link da notícia)***"
      ],
      "metadata": {
        "id": "JgvWPOzm8zcb"
      }
    },
    {
      "cell_type": "markdown",
      "source": [
        "----------------------------------------------------------------------------------------------------------------------------------------------------------------"
      ],
      "metadata": {
        "id": "n9Lp7rej-nKN"
      }
    },
    {
      "cell_type": "code",
      "source": [
        "pip install bs4\n",
        "#Instalando BeautifulSoup"
      ],
      "metadata": {
        "colab": {
          "base_uri": "https://localhost:8080/"
        },
        "id": "Lw7CjCp35Cly",
        "outputId": "a4c25145-d759-42a9-ce04-2502dc579c03"
      },
      "execution_count": null,
      "outputs": [
        {
          "output_type": "stream",
          "name": "stdout",
          "text": [
            "Requirement already satisfied: bs4 in /usr/local/lib/python3.10/dist-packages (0.0.1)\n",
            "Requirement already satisfied: beautifulsoup4 in /usr/local/lib/python3.10/dist-packages (from bs4) (4.11.2)\n",
            "Requirement already satisfied: soupsieve>1.2 in /usr/local/lib/python3.10/dist-packages (from beautifulsoup4->bs4) (2.4.1)\n"
          ]
        }
      ]
    },
    {
      "cell_type": "code",
      "source": [
        "#Importando as bibliotecas\n",
        "from bs4 import BeautifulSoup\n",
        "import requests\n",
        "import pandas as pd\n"
      ],
      "metadata": {
        "id": "HMpzWHlO1PdD"
      },
      "execution_count": null,
      "outputs": []
    },
    {
      "cell_type": "code",
      "source": [
        "#Requisição\n",
        "response = requests.get('https://ge.globo.com/')\n",
        "\n",
        "#status_code é pra ver a resposta da requisição(200=Sucesso!)\n",
        "print(response.status_code)\n",
        "\n",
        "#content recebe o conteudo html da pagina\n",
        "content=response.content\n",
        "\n",
        "#Transformando o conteudo em uma instância do objeto  Beautifulsoup\n",
        "html_g1=BeautifulSoup(content,'html.parser')\n",
        "print(type(html_g1))"
      ],
      "metadata": {
        "id": "vhLW01VtsaHz"
      },
      "execution_count": null,
      "outputs": []
    },
    {
      "cell_type": "code",
      "source": [
        "#prettify() do BeautifulSoup -Serve para visualizar o codigo em um formato  mais legivel e estruturado\n",
        "print(html_g1.prettify())\n"
      ],
      "metadata": {
        "id": "W1MA_W7X0o2f"
      },
      "execution_count": null,
      "outputs": []
    },
    {
      "cell_type": "code",
      "source": [
        "lista=[]\n",
        "\n",
        "#Analisando as tags percebemos que o conteudo das noticias estava dentro da div ('feed-post-body')\n",
        "\n",
        "noticias=html_g1.findAll('div',attrs={'class':'feed-post-body'})\n",
        "\n",
        "for noticia in noticias: #iterando por cada noticia e armazenando (titulo,subtitulo,link)\n",
        "\n",
        "    titulo = noticia.find('h2',attrs={'elementtiming':\"text-ssr\"})\n",
        "    link = noticia.find('a', href=True)\n",
        "    subtitulo = noticia.find('p',attrs={'elementtiming':\"text-ssr\"})\n",
        "\n",
        "    if link:  # Verifica se o link foi encontrado\n",
        "        link_noticia = link['href']\n",
        "    else: #Nao foi encontrado recebe none\n",
        "        link_noticia = None\n",
        "\n",
        "    if (subtitulo):#Atribundo as inf que queremos para a lista\n",
        "      lista.append([titulo.text,subtitulo.text,link_noticia])\n",
        "\n",
        "    else:   #Se não houver subtitulo : Armazena  -  '/Sem Subtitulo '\n",
        "      lista.append([titulo.text,'       /Sem Subtitulo      ',link_noticia])\n",
        "\n",
        "print(lista)\n",
        "\n",
        "\n",
        "\n"
      ],
      "metadata": {
        "id": "TDSj3gNmMU7V"
      },
      "execution_count": null,
      "outputs": []
    },
    {
      "cell_type": "code",
      "source": [
        "#Transformei o contéudo da lista em  um DataFrame\n",
        "colunas=['Titulo','Subtitulo','link']\n",
        "df = pd.DataFrame(lista, columns=colunas)\n",
        "\n",
        "\n",
        "\n",
        "#Salvando o  arquivo em formato 'CSV'\n",
        "df.to_csv('noticias_g1.csv',index=False)\n",
        "\n",
        "#Visualizando.\n",
        "print(df)\n"
      ],
      "metadata": {
        "colab": {
          "base_uri": "https://localhost:8080/"
        },
        "id": "r92npqoiSnFb",
        "outputId": "fac2451c-1847-49cb-b909-2f62f72ecd7d"
      },
      "execution_count": null,
      "outputs": [
        {
          "output_type": "stream",
          "name": "stdout",
          "text": [
            "                                              Titulo  \\\n",
            "0             📺 Assista aos nossos principais vídeos   \n",
            "1  \"Cutucadas de Abel são para impedir que se dis...   \n",
            "2  Ídolo de Cruzeiro, Corinthians e Galo, Palhinh...   \n",
            "3  Flamengo confirma proposta de Crystal Palace p...   \n",
            "4  Santos envia lista de 14 jogadores ao Arouca e...   \n",
            "5           Vasco negocia com lateral do Atlético-GO   \n",
            "6  Coritiba negocia a contratação do volante colo...   \n",
            "\n",
            "                                           Subtitulo  \\\n",
            "0                               /Sem Subtitulo         \n",
            "1                               /Sem Subtitulo         \n",
            "2                               /Sem Subtitulo         \n",
            "3  O atacante chamou atenção dos ingleses, que en...   \n",
            "4                               /Sem Subtitulo         \n",
            "5                               /Sem Subtitulo         \n",
            "6  Jogador de 27 anos é o capitão do Atlético Nac...   \n",
            "\n",
            "                                                link  \n",
            "0  https://ge.globo.com/playlist/assista-aos-noss...  \n",
            "1                                               None  \n",
            "2  https://ge.globo.com/mg/noticia/2023/07/17/ido...  \n",
            "3  https://ge.globo.com/futebol/times/flamengo/no...  \n",
            "4  https://ge.globo.com/sp/santos-e-regiao/futebo...  \n",
            "5  https://ge.globo.com/futebol/times/vasco/notic...  \n",
            "6  https://ge.globo.com/pr/blogs/blog-da-nadja/po...  \n"
          ]
        }
      ]
    },
    {
      "cell_type": "markdown",
      "source": [
        "----------------------------------------------------------------------------------------------------------------------------------------------------------------"
      ],
      "metadata": {
        "id": "3XogZZqb1Jf0"
      }
    },
    {
      "cell_type": "markdown",
      "source": [
        "Essas informações são referentes ao contéudo disponivel no site(página principal)  no  dia 17/07/2023 as 14:00 hrs\n"
      ],
      "metadata": {
        "id": "prZfjBFd5qYR"
      }
    },
    {
      "cell_type": "markdown",
      "source": [
        "----------------------------------------------------------------------------------------------------------------------------------------------------------------"
      ],
      "metadata": {
        "id": "-fnO4TpPBAcM"
      }
    },
    {
      "cell_type": "markdown",
      "source": [
        "# **OBS:**"
      ],
      "metadata": {
        "id": "G91Czzr0BC8D"
      }
    },
    {
      "cell_type": "markdown",
      "source": [
        "### A requisição trouxe apenas 6 notícias."
      ],
      "metadata": {
        "id": "-MLEUsuQCAu7"
      }
    },
    {
      "cell_type": "markdown",
      "source": [
        "### Aprimorando  esse web scraping: integrar com o Selenium, pois apenas o BeautifulSoup não é suficiente para obter todo o conteúdo disponível na página, devido a limitações na requisição."
      ],
      "metadata": {
        "id": "Q2nOl2n4AKBE"
      }
    }
  ]
}